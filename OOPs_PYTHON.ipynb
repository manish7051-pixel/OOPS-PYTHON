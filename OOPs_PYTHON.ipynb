{
  "nbformat": 4,
  "nbformat_minor": 0,
  "metadata": {
    "colab": {
      "provenance": []
    },
    "kernelspec": {
      "name": "python3",
      "display_name": "Python 3"
    },
    "language_info": {
      "name": "python"
    }
  },
  "cells": [
    {
      "cell_type": "markdown",
      "source": [
        "# **THEORY SOLUTION**"
      ],
      "metadata": {
        "id": "GdarY2icR04s"
      }
    },
    {
      "cell_type": "markdown",
      "source": [
        "1. What is Object-Oriented Programming (OOP)?\n",
        " -  Object-Oriented Programming (OOP) is a programming paradigm that organizes software design around data, or objects, rather than functions and logic. It focuses on the principles of encapsulation, inheritance, abstraction, and polymorphism, promoting code modularity and reusability."
      ],
      "metadata": {
        "id": "Odh1uOfaTUYC"
      }
    },
    {
      "cell_type": "markdown",
      "source": [
        "2. What is a class in OOP?\n",
        " -  A class is a user-defined data structure in OOP that acts as a blueprint for creating objects. It encapsulates data for the object and methods to manipulate that data, defining the behaviors and attributes that the object will have."
      ],
      "metadata": {
        "id": "2sGPvCFtTbCH"
      }
    },
    {
      "cell_type": "markdown",
      "source": [
        "3. What is an object in OOP?\n",
        " -  An object is an instance of a class that contains data in the form of attributes and behavior in the form of methods. It represents a real-world entity and allows the class blueprint to be utilized in a practical form."
      ],
      "metadata": {
        "id": "t4_2FFWrTlz4"
      }
    },
    {
      "cell_type": "markdown",
      "source": [
        " 4. What is the difference between abstraction and encapsulation?\n",
        "  -  Abstraction is the process of hiding implementation details and showing only the necessary features of an object. Encapsulation is the process of wrapping data and methods into a single unit and restricting direct access to some of the object's components to ensure data integrity."
      ],
      "metadata": {
        "id": "bYrVojTjTuHN"
      }
    },
    {
      "cell_type": "markdown",
      "source": [
        " 5. What are dunder methods in Python?\n",
        "-  Dunder methods, also known as magic methods, are special methods in Python that begin and end with double underscores (e.g., __init__, __str__). They are used to define the behavior of objects for built-in operations and enable operator overloading and customization of standard functionalities."
      ],
      "metadata": {
        "id": "htwWFOBBT8xF"
      }
    },
    {
      "cell_type": "markdown",
      "source": [
        " 6. Explain the concept of inheritance in OOP.\n",
        "-  Inheritance is an OOP feature that allows a class (child class) to derive attributes and methods from another class (parent class). It promotes code reuse and establishes a relationship between the general (superclass) and specific (subclass) types.\n",
        "\n"
      ],
      "metadata": {
        "id": "tV8TdcsxUuJ1"
      }
    },
    {
      "cell_type": "markdown",
      "source": [
        " 7. What is polymorphism in OOP?\n",
        "  -  Polymorphism is the ability of different objects to respond to the same function call in different ways. It enables a common interface to represent multiple forms of behavior, enhancing flexibility and reusability in code."
      ],
      "metadata": {
        "id": "6amiUyucUyhT"
      }
    },
    {
      "cell_type": "markdown",
      "source": [
        "8. How is encapsulation achieved in Python?\n",
        " - Encapsulation in Python is achieved by defining class attributes as private using a double underscore prefix. Access and modification of these private attributes are done through getter and setter methods, thereby ensuring controlled access to the internal data."
      ],
      "metadata": {
        "id": "yt5aWn4hU450"
      }
    },
    {
      "cell_type": "markdown",
      "source": [
        "9. What is a constructor in Python?\n",
        " - A constructor is a special method in Python, defined by __init__(), which is automatically invoked when an object is instantiated from a class. It is used to initialize the attributes of the object with specific values."
      ],
      "metadata": {
        "id": "nbPHNo03U_PS"
      }
    },
    {
      "cell_type": "markdown",
      "source": [
        " 10. What are class and static methods in Python?\n",
        "- A class method is a method that takes the class as its first argument and is defined using the @classmethod decorator. A static method does not take either the instance or class as its first argument and is defined using the @staticmethod decorator. Both are used for operations that are related to the class but do not require access to instance-level data."
      ],
      "metadata": {
        "id": "vBIXtj14VCBw"
      }
    },
    {
      "cell_type": "markdown",
      "source": [
        "11. What is method overloading in Python?\n",
        " - Method overloading is the ability to define multiple methods with the same name but different parameters within the same class. Although Python does not support true method overloading, similar functionality can be achieved using default or variable-length arguments.\n",
        "\n"
      ],
      "metadata": {
        "id": "F4IRfsP1VKH2"
      }
    },
    {
      "cell_type": "markdown",
      "source": [
        "12. What is method overriding in OOP?\n",
        " - Method overriding is a feature in OOP where a subclass provides a specific implementation of a method already defined in its superclass. This allows the subclass to modify or extend the behavior of the method according to its own needs."
      ],
      "metadata": {
        "id": "yveEQULaVmKX"
      }
    },
    {
      "cell_type": "markdown",
      "source": [
        "13. What is a property decorator in Python?\n",
        " - A property decorator in Python is used to define a method as a property, allowing it to be accessed like an attribute. It is typically used to implement controlled access to private variables without needing explicit getter and setter methods.\n",
        "\n"
      ],
      "metadata": {
        "id": "IDelV640VtUl"
      }
    },
    {
      "cell_type": "markdown",
      "source": [
        "14. Why is polymorphism important in OOP?\n",
        " - Polymorphism is important because it allows different classes to be treated through a common interface, enabling code generalization, scalability, and flexibility. It simplifies code maintenance and supports the implementation of dynamic behavior at runtime.\n",
        "\n"
      ],
      "metadata": {
        "id": "VU4B0AhcV0LM"
      }
    },
    {
      "cell_type": "markdown",
      "source": [
        "15. What is an abstract class in Python?\n",
        " - An abstract class in Python is a class that cannot be instantiated and serves as a blueprint for other classes. It contains one or more abstract methods which must be implemented by any subclass. Abstract classes are defined using the abc module and the @abstractmethod decorator."
      ],
      "metadata": {
        "id": "QTzaW3ICV4nv"
      }
    },
    {
      "cell_type": "markdown",
      "source": [
        " 16. What are the advantages of OOP?\n",
        "- The advantages of OOP include modularity, code reusability, scalability, data hiding, and ease of maintenance. It also provides a clear structure for programs and facilitates problem-solving through abstraction and hierarchy.\n",
        "\n"
      ],
      "metadata": {
        "id": "pp3uo_FWV83-"
      }
    },
    {
      "cell_type": "markdown",
      "source": [
        "17. What is the difference between a class variable and an instance variable?\n",
        " - A class variable is shared across all instances of a class and is defined within the class but outside any instance methods. An instance variable is unique to each object and is usually defined within the constructor using self.\n",
        "\n"
      ],
      "metadata": {
        "id": "4iKeIP3nWEIf"
      }
    },
    {
      "cell_type": "markdown",
      "source": [
        "18. What is multiple inheritance in Python?\n",
        " - Multiple inheritance is a feature in Python that allows a class to inherit from more than one parent class. This enables a child class to acquire attributes and methods from multiple base classes, offering high reusability but potentially increasing complexity due to the diamond problem."
      ],
      "metadata": {
        "id": "UPl3Zy97WKzp"
      }
    },
    {
      "cell_type": "markdown",
      "source": [
        "19. Explain the purpose of __str__ and __repr__ methods in Python.\n",
        " - The __str__ method is used to return a human-readable string representation of an object, intended for end users. The __repr__ method returns an official string representation used for debugging and development, and should ideally return a string that can recreate the object when passed to eval().\n",
        "\n"
      ],
      "metadata": {
        "id": "Z-izjIhqWTpx"
      }
    },
    {
      "cell_type": "markdown",
      "source": [
        "20. What is the significance of the super() function in Python?\n",
        " - The super() function is used to call a method from the parent class in a subclass. It is commonly used to invoke the parent class constructor or override methods to extend functionality without rewriting existing code."
      ],
      "metadata": {
        "id": "LjyY_w8uWXrt"
      }
    },
    {
      "cell_type": "markdown",
      "source": [
        " 21. What is the significance of the __del__ method in Python?\n",
        "  - The __del__ method is a special method in Python known as the destructor. It is automatically called when an object is about to be destroyed and is typically used to perform cleanup activities such as closing files or releasing resources."
      ],
      "metadata": {
        "id": "E_M3_vUGWhUs"
      }
    },
    {
      "cell_type": "markdown",
      "source": [
        "22. What is the difference between @staticmethod and @classmethod in Python?\n",
        " -  A @staticmethod does not take any implicit first argument (neither self nor cls) and behaves like a regular function that belongs to the class’s namespace. A @classmethod takes cls as its first argument and can access or modify class-level variables and methods.\n",
        "\n"
      ],
      "metadata": {
        "id": "kas1Vb32W1QU"
      }
    },
    {
      "cell_type": "markdown",
      "source": [
        "23. How does polymorphism work in Python with inheritance?\n",
        " - Polymorphism with inheritance allows a subclass to override methods of its superclass, enabling different behaviors under a common interface. Python supports dynamic polymorphism, where the decision to call a particular method is made at runtime based on the object type.\n",
        "\n"
      ],
      "metadata": {
        "id": "EASsJhFJXHFR"
      }
    },
    {
      "cell_type": "markdown",
      "source": [
        "24. What is method chaining in Python OOP?\n",
        " - Method chaining is a technique where multiple methods are called on the same object in a single line, separated by dots. It is typically implemented by returning self from each method, enhancing code readability and conciseness.\n",
        "\n"
      ],
      "metadata": {
        "id": "n353LEV3XNGQ"
      }
    },
    {
      "cell_type": "markdown",
      "source": [
        " 25. What is the purpose of the __call__ method in Python?\n",
        "  - The __call__ method allows an instance of a class to be called as a function. When defined, this method enables objects to be invoked with parentheses and parameters, enabling function-like behavior from object instances."
      ],
      "metadata": {
        "id": "SZpP8zT_XUwM"
      }
    },
    {
      "cell_type": "markdown",
      "source": [
        "# **PRACTICAL QUESTIONS**"
      ],
      "metadata": {
        "id": "AjYWrQcmX63P"
      }
    },
    {
      "cell_type": "code",
      "source": [
        "# 1. Create a parent class Animal with a method speak() that prints a generic message. Create a child class Dog that overrides the speak() method to print \"Bark!\"\n",
        "\n",
        " class Animal:\n",
        "    def speak(self):\n",
        "        print(\"Animal makes a sound\")\n",
        "\n",
        "class Dog(Animal):\n",
        "    def speak(self):\n",
        "        print(\"Bark!\")\n",
        "\n",
        "a = Animal()\n",
        "a.speak()\n",
        "\n",
        "d = Dog()\n",
        "d.speak()\n"
      ],
      "metadata": {
        "colab": {
          "base_uri": "https://localhost:8080/"
        },
        "id": "4Y_qItDxYXLG",
        "outputId": "658792f7-800c-4ba6-bb77-784472019668"
      },
      "execution_count": 3,
      "outputs": [
        {
          "output_type": "stream",
          "name": "stdout",
          "text": [
            "Animal makes a sound\n",
            "Bark!\n"
          ]
        }
      ]
    },
    {
      "cell_type": "code",
      "source": [
        "# 2. Write a program to create an abstract class Shape with a method area(). Derive classes Circle and Rectangle from it and implement the area() method in both.\n",
        "\n",
        "from abc import ABC, abstractmethod\n",
        "\n",
        "class Shape(ABC):\n",
        "    @abstractmethod\n",
        "    def area(self):\n",
        "        pass\n",
        "\n",
        "class Circle(Shape):\n",
        "    def __init__(self, radius):\n",
        "        self.radius = radius\n",
        "\n",
        "    def area(self):\n",
        "        return 3.14 * self.radius * self.radius\n",
        "\n",
        "class Rectangle(Shape):\n",
        "    def __init__(self, length, breadth):\n",
        "        self.length = length\n",
        "        self.breadth = breadth\n",
        "\n",
        "    def area(self):\n",
        "        return self.length * self.breadth\n",
        "\n",
        "c = Circle(5)\n",
        "r = Rectangle(4, 6)\n",
        "print(c.area())\n",
        "print(r.area())\n"
      ],
      "metadata": {
        "colab": {
          "base_uri": "https://localhost:8080/"
        },
        "id": "-j2RhLziYhqW",
        "outputId": "ac80f9ac-a8d0-4ae3-f16a-45e5f3236ea7"
      },
      "execution_count": 4,
      "outputs": [
        {
          "output_type": "stream",
          "name": "stdout",
          "text": [
            "78.5\n",
            "24\n"
          ]
        }
      ]
    },
    {
      "cell_type": "code",
      "source": [
        "# 3. Implement a multi-level inheritance scenario where a class Vehicle has an attribute type. Derive a class Car and further derive a class ElectricCar that adds a battery attribute\n",
        "\n",
        "class Vehicle:\n",
        "    def __init__(self, vehicle_type):\n",
        "        self.vehicle_type = vehicle_type\n",
        "\n",
        "class Car(Vehicle):\n",
        "    def __init__(self, vehicle_type, brand):\n",
        "        super().__init__(vehicle_type)\n",
        "        self.brand = brand\n",
        "\n",
        "class ElectricCar(Car):\n",
        "    def __init__(self, vehicle_type, brand, battery):\n",
        "        super().__init__(vehicle_type, brand)\n",
        "        self.battery = battery\n",
        "\n",
        "ec = ElectricCar(\"Electric\", \"Tesla\", \"100 kWh\")\n",
        "print(ec.vehicle_type, ec.brand, ec.battery)\n"
      ],
      "metadata": {
        "colab": {
          "base_uri": "https://localhost:8080/"
        },
        "id": "meGSY_92Y0Hv",
        "outputId": "20e77913-d53f-4654-a0ac-f992b99f333b"
      },
      "execution_count": 6,
      "outputs": [
        {
          "output_type": "stream",
          "name": "stdout",
          "text": [
            "Electric Tesla 100 kWh\n"
          ]
        }
      ]
    },
    {
      "cell_type": "code",
      "source": [
        "# 4. Demonstrate polymorphism by creating a base class Bird with a method fly(). Create two derived classes Sparrow and Penguin that override the fly() method.\n",
        "\n",
        "class Bird:\n",
        "    def fly(self):\n",
        "        print(\"Some bird is flying\")\n",
        "\n",
        "class Sparrow(Bird):\n",
        "    def fly(self):\n",
        "        print(\"Sparrow flies high\")\n",
        "\n",
        "class Penguin(Bird):\n",
        "    def fly(self):\n",
        "        print(\"Penguin cannot fly\")\n",
        "\n",
        "b1 = Sparrow()\n",
        "b2 = Penguin()\n",
        "\n",
        "b1.fly()\n",
        "b2.fly()\n"
      ],
      "metadata": {
        "colab": {
          "base_uri": "https://localhost:8080/"
        },
        "id": "4MejNshAZar0",
        "outputId": "8211ebc8-9b77-4da7-9cb3-1d9d0b488a42"
      },
      "execution_count": 7,
      "outputs": [
        {
          "output_type": "stream",
          "name": "stdout",
          "text": [
            "Sparrow flies high\n",
            "Penguin cannot fly\n"
          ]
        }
      ]
    },
    {
      "cell_type": "code",
      "source": [
        "#5. Write a program to demonstrate encapsulation by creating a class BankAccount with private attributes balance and methods to deposit, withdraw, and check balance\n",
        "\n",
        "class BankAccount:\n",
        "    def __init__(self):\n",
        "        self.__balance = 0\n",
        "\n",
        "    def deposit(self, amount):\n",
        "        if amount > 0:\n",
        "            self.__balance += amount\n",
        "\n",
        "    def withdraw(self, amount):\n",
        "        if 0 < amount <= self.__balance:\n",
        "            self.__balance -= amount\n",
        "\n",
        "    def get_balance(self):\n",
        "        return self.__balance\n",
        "\n",
        "acc = BankAccount()\n",
        "acc.deposit(1000)\n",
        "acc.withdraw(200)\n",
        "print(acc.get_balance())\n"
      ],
      "metadata": {
        "colab": {
          "base_uri": "https://localhost:8080/"
        },
        "id": "Lv0xp9QgZyvq",
        "outputId": "88c3ae04-608f-4e78-fce8-2b0bf2ea4a7c"
      },
      "execution_count": 8,
      "outputs": [
        {
          "output_type": "stream",
          "name": "stdout",
          "text": [
            "800\n"
          ]
        }
      ]
    },
    {
      "cell_type": "code",
      "source": [
        "# 6. Demonstrate runtime polymorphism using a method play() in a base class Instrument. Derive classes Guitar and Piano that implement their own version of play()\n",
        "\n",
        "class Instrument:\n",
        "    def play(self):\n",
        "        print(\"Playing instrument\")\n",
        "\n",
        "class Guitar(Instrument):\n",
        "    def play(self):\n",
        "        print(\"Strumming guitar\")\n",
        "\n",
        "class Piano(Instrument):\n",
        "    def play(self):\n",
        "        print(\"Playing piano\")\n",
        "\n",
        "inst1 = Guitar()\n",
        "inst2 = Piano()\n",
        "\n",
        "inst1.play()\n",
        "inst2.play()\n"
      ],
      "metadata": {
        "colab": {
          "base_uri": "https://localhost:8080/"
        },
        "id": "jflsUaRGZ_H1",
        "outputId": "6bfb1e43-c562-43df-b947-9dff73a80875"
      },
      "execution_count": 9,
      "outputs": [
        {
          "output_type": "stream",
          "name": "stdout",
          "text": [
            "Strumming guitar\n",
            "Playing piano\n"
          ]
        }
      ]
    },
    {
      "cell_type": "code",
      "source": [
        "# 7. Create a class MathOperations with a class method add_numbers() to add two numbers and a static method subtract_numbers() to subtract two numbers\n",
        "\n",
        "class MathOperations:\n",
        "    @classmethod\n",
        "    def add_numbers(cls, a, b):\n",
        "        return a + b\n",
        "\n",
        "    @staticmethod\n",
        "    def subtract_numbers(a, b):\n",
        "        return a - b\n",
        "\n",
        "print(MathOperations.add_numbers(10, 5))\n",
        "print(MathOperations.subtract_numbers(10, 5))\n"
      ],
      "metadata": {
        "colab": {
          "base_uri": "https://localhost:8080/"
        },
        "id": "ZIwKo2NUaMKV",
        "outputId": "d61c49bc-cd31-4c13-a10c-457f3ce7d03c"
      },
      "execution_count": 10,
      "outputs": [
        {
          "output_type": "stream",
          "name": "stdout",
          "text": [
            "15\n",
            "5\n"
          ]
        }
      ]
    },
    {
      "cell_type": "code",
      "source": [
        "# 8. Implement a class Person with a class method to count the total number of persons created\n",
        "\n",
        "class Person:\n",
        "    count = 0\n",
        "\n",
        "    def __init__(self, name):\n",
        "        self.name = name\n",
        "        Person.count += 1\n",
        "\n",
        "    @classmethod\n",
        "    def total_persons(cls):\n",
        "        return cls.count\n",
        "\n",
        "p1 = Person(\"A\")\n",
        "p2 = Person(\"B\")\n",
        "print(Person.total_persons())\n"
      ],
      "metadata": {
        "colab": {
          "base_uri": "https://localhost:8080/"
        },
        "id": "MDIFL-j5ag1L",
        "outputId": "258dc2f5-1841-410b-d314-36ec63608666"
      },
      "execution_count": 11,
      "outputs": [
        {
          "output_type": "stream",
          "name": "stdout",
          "text": [
            "2\n"
          ]
        }
      ]
    },
    {
      "cell_type": "code",
      "source": [
        "#9. Write a class Fraction with attributes numerator and denominator. Override the str method to display the fraction as \"numerator/denominator\".\n",
        "\n",
        "class Fraction:\n",
        "    def __init__(self, numerator, denominator):\n",
        "        self.numerator = numerator\n",
        "        self.denominator = denominator\n",
        "\n",
        "    def __str__(self):\n",
        "        return f\"{self.numerator}/{self.denominator}\"\n",
        "\n",
        "f = Fraction(3, 4)\n",
        "print(f)\n"
      ],
      "metadata": {
        "colab": {
          "base_uri": "https://localhost:8080/"
        },
        "id": "my3nWnBTal_R",
        "outputId": "3f7b8847-84f8-4c2a-a4ab-96bc786f0a90"
      },
      "execution_count": 12,
      "outputs": [
        {
          "output_type": "stream",
          "name": "stdout",
          "text": [
            "3/4\n"
          ]
        }
      ]
    },
    {
      "cell_type": "code",
      "source": [
        "#10. Demonstrate operator overloading by creating a class Vector and overriding the add method to add two vectors.\n",
        "\n",
        "class Vector:\n",
        "    def __init__(self, x, y):\n",
        "        self.x = x\n",
        "        self.y = y\n",
        "\n",
        "    def __add__(self, other):\n",
        "        return Vector(self.x + other.x, self.y + other.y)\n",
        "\n",
        "    def __str__(self):\n",
        "        return f\"({self.x}, {self.y})\"\n",
        "\n",
        "v1 = Vector(2, 3)\n",
        "v2 = Vector(4, 5)\n",
        "v3 = v1 + v2\n",
        "print(v3)\n"
      ],
      "metadata": {
        "colab": {
          "base_uri": "https://localhost:8080/"
        },
        "id": "6r15zTgda1vd",
        "outputId": "348a86d5-604e-4d51-ef33-88a16202271a"
      },
      "execution_count": 13,
      "outputs": [
        {
          "output_type": "stream",
          "name": "stdout",
          "text": [
            "(6, 8)\n"
          ]
        }
      ]
    },
    {
      "cell_type": "code",
      "source": [
        "# 11. Create a class Person with attributes name and age. Add a method greet() that prints \"Hello, my name is {name} and I am {age} years old.\"\n",
        "class Person:\n",
        "    def __init__(self, name, age):\n",
        "        self.name = name\n",
        "        self.age = age\n",
        "\n",
        "    def greet(self):\n",
        "        print(f\"Hello, my name is {self.name} and I am {self.age} years old.\")\n",
        "\n",
        "p = Person(\"Chiku\", 24)\n",
        "p.greet()\n"
      ],
      "metadata": {
        "colab": {
          "base_uri": "https://localhost:8080/"
        },
        "id": "AEtjg6Jpa-Ep",
        "outputId": "2aefd8a0-e23d-4793-9da8-6500c1524085"
      },
      "execution_count": 14,
      "outputs": [
        {
          "output_type": "stream",
          "name": "stdout",
          "text": [
            "Hello, my name is Chiku and I am 24 years old.\n"
          ]
        }
      ]
    },
    {
      "cell_type": "code",
      "source": [
        "# 12. Implement a class Student with attributes name and grades. Create a method average_grade() to compute the average of the grades\n",
        "\n",
        "class Student:\n",
        "    def __init__(self, name, grades):\n",
        "        self.name = name\n",
        "        self.grades = grades\n",
        "\n",
        "    def average_grade(self):\n",
        "        return sum(self.grades) / len(self.grades)\n",
        "\n",
        "s = Student(\"Chiku\", [85, 90, 80])\n",
        "print(s.average_grade())\n"
      ],
      "metadata": {
        "colab": {
          "base_uri": "https://localhost:8080/"
        },
        "id": "5_KLXkS7bXff",
        "outputId": "91b81a52-292f-461d-e1d1-81bb5a4c5d79"
      },
      "execution_count": 15,
      "outputs": [
        {
          "output_type": "stream",
          "name": "stdout",
          "text": [
            "85.0\n"
          ]
        }
      ]
    },
    {
      "cell_type": "code",
      "source": [
        " #13. Create a class Rectangle with methods set_dimensions() to set the dimensions and area() to calculate the area.\n",
        "\n",
        " class Rectangle:\n",
        "    def set_dimensions(self, length, breadth):\n",
        "        self.length = length\n",
        "        self.breadth = breadth\n",
        "\n",
        "    def area(self):\n",
        "        return self.length * self.breadth\n",
        "\n",
        "r = Rectangle()\n",
        "r.set_dimensions(5, 10)\n",
        "print(r.area())\n"
      ],
      "metadata": {
        "colab": {
          "base_uri": "https://localhost:8080/"
        },
        "id": "Wg5SxDOYbqyx",
        "outputId": "b855dabf-3a7d-433c-bd1f-1e78075decd7"
      },
      "execution_count": 16,
      "outputs": [
        {
          "output_type": "stream",
          "name": "stdout",
          "text": [
            "50\n"
          ]
        }
      ]
    },
    {
      "cell_type": "code",
      "source": [
        "# 14. Create a class Employee with a method calculate_salary() that computes the salary based on hours worked and hourly rate. Create a derived class Manager that adds a bonus to the salary\n",
        "\n",
        "class Employee:\n",
        "    def __init__(self, hours, rate):\n",
        "        self.hours = hours\n",
        "        self.rate = rate\n",
        "\n",
        "    def calculate_salary(self):\n",
        "        return self.hours * self.rate\n",
        "\n",
        "class Manager(Employee):\n",
        "    def __init__(self, hours, rate, bonus):\n",
        "        super().__init__(hours, rate)\n",
        "        self.bonus = bonus\n",
        "\n",
        "    def calculate_salary(self):\n",
        "        return super().calculate_salary() + self.bonus\n",
        "\n",
        "m = Manager(40, 100, 500)\n",
        "print(m.calculate_salary())\n"
      ],
      "metadata": {
        "colab": {
          "base_uri": "https://localhost:8080/"
        },
        "id": "aPoK6ceUb8ck",
        "outputId": "ba40b912-bdbb-464e-dc64-84ebd70ba235"
      },
      "execution_count": 17,
      "outputs": [
        {
          "output_type": "stream",
          "name": "stdout",
          "text": [
            "4500\n"
          ]
        }
      ]
    },
    {
      "cell_type": "code",
      "source": [
        "#15. Create a class Product with attributes name, price, and quantity. Implement a method total_price() that calculates the total price of the product\n",
        "\n",
        "class Product:\n",
        "    def __init__(self, name, price, quantity):\n",
        "        self.name = name\n",
        "        self.price = price\n",
        "        self.quantity = quantity\n",
        "\n",
        "    def total_price(self):\n",
        "        return self.price * self.quantity\n",
        "\n",
        "p = Product(\"Laptop\", 50000, 2)\n",
        "print(p.total_price())\n"
      ],
      "metadata": {
        "colab": {
          "base_uri": "https://localhost:8080/"
        },
        "id": "nvWeAxpHcSPP",
        "outputId": "871d2327-e920-4dd8-9666-956193606287"
      },
      "execution_count": 18,
      "outputs": [
        {
          "output_type": "stream",
          "name": "stdout",
          "text": [
            "100000\n"
          ]
        }
      ]
    },
    {
      "cell_type": "code",
      "source": [
        "# 16. Create a class Animal with an abstract method sound(). Create two derived classes Cow and Sheep that implement the sound() method\n",
        "\n",
        "from abc import ABC, abstractmethod\n",
        "\n",
        "class Animal(ABC):\n",
        "    @abstractmethod\n",
        "    def sound(self):\n",
        "        pass\n",
        "\n",
        "class Cow(Animal):\n",
        "    def sound(self):\n",
        "        print(\"Moo\")\n",
        "\n",
        "class Sheep(Animal):\n",
        "    def sound(self):\n",
        "        print(\"Baa\")\n",
        "\n",
        "c = Cow()\n",
        "s = Sheep()\n",
        "c.sound()\n",
        "s.sound()\n"
      ],
      "metadata": {
        "colab": {
          "base_uri": "https://localhost:8080/"
        },
        "id": "a8OyrMHWc1hY",
        "outputId": "dc7c1e31-6053-426f-d9ee-c1fb4b3113f4"
      },
      "execution_count": 19,
      "outputs": [
        {
          "output_type": "stream",
          "name": "stdout",
          "text": [
            "Moo\n",
            "Baa\n"
          ]
        }
      ]
    },
    {
      "cell_type": "code",
      "source": [
        "# 17. Create a class Book with attributes title, author, and year_published. Add a method get_book_info() that returns a formatted string with the book's details\n",
        "\n",
        "class Book:\n",
        "    def __init__(self, title, author, year_published):\n",
        "        self.title = title\n",
        "        self.author = author\n",
        "        self.year_published = year_published\n",
        "\n",
        "    def get_book_info(self):\n",
        "        return f\"{self.title} by {self.author}, published in {self.year_published}\"\n",
        "\n",
        "b = Book(\"1984\", \"George Orwell\", 1949)\n",
        "print(b.get_book_info())\n"
      ],
      "metadata": {
        "colab": {
          "base_uri": "https://localhost:8080/"
        },
        "id": "xuQ0HBN7dS4n",
        "outputId": "7dd8f0a8-e770-4d14-999c-b79a54d838cd"
      },
      "execution_count": 20,
      "outputs": [
        {
          "output_type": "stream",
          "name": "stdout",
          "text": [
            "1984 by George Orwell, published in 1949\n"
          ]
        }
      ]
    },
    {
      "cell_type": "code",
      "source": [
        "# 18. Create a class House with attributes address and price. Create a derived class Mansion that adds an attribute number_of_rooms\n",
        "\n",
        "class House:\n",
        "    def __init__(self, address, price):\n",
        "        self.address = address\n",
        "        self.price = price\n",
        "\n",
        "class Mansion(House):\n",
        "    def __init__(self, address, price, number_of_rooms):\n",
        "        super().__init__(address, price)\n",
        "        self.number_of_rooms = number_of_rooms\n",
        "\n",
        "m = Mansion(\"Bangalore\", 50000000, 10)\n",
        "print(m.address, m.price, m.number_of_rooms)\n"
      ],
      "metadata": {
        "colab": {
          "base_uri": "https://localhost:8080/"
        },
        "id": "NRVoK6B0eTs9",
        "outputId": "de116e81-c772-4358-edb5-c0ba3f5df98e"
      },
      "execution_count": 21,
      "outputs": [
        {
          "output_type": "stream",
          "name": "stdout",
          "text": [
            "Bangalore 50000000 10\n"
          ]
        }
      ]
    }
  ]
}